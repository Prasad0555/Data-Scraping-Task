{
 "cells": [
  {
   "cell_type": "code",
   "execution_count": 1,
   "id": "0854b7a0",
   "metadata": {},
   "outputs": [],
   "source": [
    "from selenium import webdriver\n",
    "from bs4 import BeautifulSoup\n",
    "import pandas as pd\n",
    "import os"
   ]
  },
  {
   "cell_type": "code",
   "execution_count": 3,
   "id": "e4bbd9c9",
   "metadata": {},
   "outputs": [],
   "source": [
    "driver = webdriver.Chrome(\"chromedriver.exe\")"
   ]
  },
  {
   "cell_type": "code",
   "execution_count": 4,
   "id": "d71d2d3b",
   "metadata": {},
   "outputs": [],
   "source": [
    "products=[] #List to store name of the product\n",
    "prices=[] #List to store price of the product\n",
    "ratings=[] #List to store rating of the product\n",
    "driver.get(\"https://www.flipkart.com/search?q=laptop&sid=6bo%2Cb5g&as=on&as-show=on&otracker=AS_QueryStore_OrganicAutoSuggest_1_3_na_na_na&otracker1=AS_QueryStore_OrganicAutoSuggest_1_3_na_na_na&as-pos=1&as-type=RECENT&suggestionId=laptop%7CLaptops&requestId=57d5f12d-e88d-4438-aec1-8ba958e68e3e&as-searchtext=lap\")"
   ]
  },
  {
   "cell_type": "code",
   "execution_count": 5,
   "id": "9ca37615",
   "metadata": {},
   "outputs": [],
   "source": [
    "content = driver.page_source\n",
    "soup = BeautifulSoup(content)\n",
    "for a in soup.findAll('a',href=True, attrs={'class':'_1fQZEK'}):\n",
    "    name=a.find('div', attrs={'class':'_4rR01T'})\n",
    "    price=a.find('div', attrs={'class':'_30jeq3 _1_WHN1'})\n",
    "    rating=a.find('div', attrs={'class':'_3LWZlK'})\n",
    "    # Appending to the list\n",
    "    products.append(name.text)\n",
    "    prices.append(price.text)\n",
    "    ratings.append(rating.text)"
   ]
  },
  {
   "cell_type": "code",
   "execution_count": 6,
   "id": "bfbe5e19",
   "metadata": {},
   "outputs": [
    {
     "data": {
      "text/html": [
       "<div>\n",
       "<style scoped>\n",
       "    .dataframe tbody tr th:only-of-type {\n",
       "        vertical-align: middle;\n",
       "    }\n",
       "\n",
       "    .dataframe tbody tr th {\n",
       "        vertical-align: top;\n",
       "    }\n",
       "\n",
       "    .dataframe thead th {\n",
       "        text-align: right;\n",
       "    }\n",
       "</style>\n",
       "<table border=\"1\" class=\"dataframe\">\n",
       "  <thead>\n",
       "    <tr style=\"text-align: right;\">\n",
       "      <th></th>\n",
       "      <th>Product Name</th>\n",
       "      <th>Price</th>\n",
       "      <th>Rating</th>\n",
       "    </tr>\n",
       "  </thead>\n",
       "  <tbody>\n",
       "    <tr>\n",
       "      <th>0</th>\n",
       "      <td>MSI Stealth 15M Core i7 11th Gen - (16 GB/1 TB...</td>\n",
       "      <td>₹1,20,990</td>\n",
       "      <td>4.2</td>\n",
       "    </tr>\n",
       "    <tr>\n",
       "      <th>1</th>\n",
       "      <td>MSI GF63 Thin Core i5 10th Gen - (8 GB/1 TB HD...</td>\n",
       "      <td>₹53,990</td>\n",
       "      <td>4.1</td>\n",
       "    </tr>\n",
       "    <tr>\n",
       "      <th>2</th>\n",
       "      <td>ASUS VivoBook 15 Core i3 10th Gen - (8 GB/1 TB...</td>\n",
       "      <td>₹29,990</td>\n",
       "      <td>3.5</td>\n",
       "    </tr>\n",
       "    <tr>\n",
       "      <th>3</th>\n",
       "      <td>Lenovo IdeaPad 3 Core i3 10th Gen - (8 GB/256 ...</td>\n",
       "      <td>₹35,990</td>\n",
       "      <td>4.3</td>\n",
       "    </tr>\n",
       "    <tr>\n",
       "      <th>4</th>\n",
       "      <td>Lenovo IdeaPad 3 Core i3 11th Gen - (8 GB/512 ...</td>\n",
       "      <td>₹40,990</td>\n",
       "      <td>4.3</td>\n",
       "    </tr>\n",
       "  </tbody>\n",
       "</table>\n",
       "</div>"
      ],
      "text/plain": [
       "                                        Product Name      Price Rating\n",
       "0  MSI Stealth 15M Core i7 11th Gen - (16 GB/1 TB...  ₹1,20,990    4.2\n",
       "1  MSI GF63 Thin Core i5 10th Gen - (8 GB/1 TB HD...    ₹53,990    4.1\n",
       "2  ASUS VivoBook 15 Core i3 10th Gen - (8 GB/1 TB...    ₹29,990    3.5\n",
       "3  Lenovo IdeaPad 3 Core i3 10th Gen - (8 GB/256 ...    ₹35,990    4.3\n",
       "4  Lenovo IdeaPad 3 Core i3 11th Gen - (8 GB/512 ...    ₹40,990    4.3"
      ]
     },
     "execution_count": 6,
     "metadata": {},
     "output_type": "execute_result"
    }
   ],
   "source": [
    "df = pd.DataFrame({'Product Name':products,'Price':prices,'Rating':ratings})\n",
    "df.head()"
   ]
  },
  {
   "cell_type": "code",
   "execution_count": 9,
   "id": "1fb231b9",
   "metadata": {},
   "outputs": [
    {
     "data": {
      "text/plain": [
       "(24, 3)"
      ]
     },
     "execution_count": 9,
     "metadata": {},
     "output_type": "execute_result"
    }
   ],
   "source": [
    "df.shape"
   ]
  },
  {
   "cell_type": "code",
   "execution_count": 7,
   "id": "38f65df6",
   "metadata": {},
   "outputs": [],
   "source": [
    "# Store the data in a required format\n",
    "df.to_csv('products.csv', index=False, encoding='utf-8')"
   ]
  },
  {
   "cell_type": "code",
   "execution_count": null,
   "id": "a7a2e174",
   "metadata": {},
   "outputs": [],
   "source": [
    "¹"
   ]
  },
  {
   "cell_type": "code",
   "execution_count": 28,
   "id": "5dab6dfe",
   "metadata": {},
   "outputs": [],
   "source": [
    "a = 'â‚¹41,990'"
   ]
  },
  {
   "cell_type": "code",
   "execution_count": 29,
   "id": "c1c3e375",
   "metadata": {},
   "outputs": [
    {
     "data": {
      "text/plain": [
       "'â‚¹41,990'"
      ]
     },
     "execution_count": 29,
     "metadata": {},
     "output_type": "execute_result"
    }
   ],
   "source": [
    "a"
   ]
  },
  {
   "cell_type": "code",
   "execution_count": 27,
   "id": "44463ff5",
   "metadata": {},
   "outputs": [
    {
     "data": {
      "text/plain": [
       "'41,990'"
      ]
     },
     "execution_count": 27,
     "metadata": {},
     "output_type": "execute_result"
    }
   ],
   "source": [
    "a.split(\"¹\")[1]"
   ]
  },
  {
   "cell_type": "code",
   "execution_count": null,
   "id": "38fd76b7",
   "metadata": {},
   "outputs": [],
   "source": []
  }
 ],
 "metadata": {
  "kernelspec": {
   "display_name": "Python 3 (ipykernel)",
   "language": "python",
   "name": "python3"
  },
  "language_info": {
   "codemirror_mode": {
    "name": "ipython",
    "version": 3
   },
   "file_extension": ".py",
   "mimetype": "text/x-python",
   "name": "python",
   "nbconvert_exporter": "python",
   "pygments_lexer": "ipython3",
   "version": "3.9.7"
  }
 },
 "nbformat": 4,
 "nbformat_minor": 5
}
